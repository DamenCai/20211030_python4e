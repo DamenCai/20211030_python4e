{
 "cells": [
  {
   "cell_type": "code",
   "execution_count": 7,
   "id": "be0d4eb2",
   "metadata": {},
   "outputs": [
    {
     "name": "stdout",
     "output_type": "stream",
     "text": [
      "{'cai': 2, 'yang': 2, 'liang': 1}\n"
     ]
    }
   ],
   "source": [
    "# count names \n",
    "counts = dict ()\n",
    "names = ['cai','yang','cai','liang','yang']\n",
    "\n",
    "for name in names:\n",
    "    if name not in counts:\n",
    "        counts[name] = 1\n",
    "    else:\n",
    "        counts[name]=counts[name]+1\n",
    "print (counts)"
   ]
  },
  {
   "cell_type": "code",
   "execution_count": 19,
   "id": "7cd127ad",
   "metadata": {},
   "outputs": [
    {
     "name": "stdout",
     "output_type": "stream",
     "text": [
      "Enter file:text.rtf\n",
      "a 8\n"
     ]
    }
   ],
   "source": [
    "name = input ('Enter file:')\n",
    "handle = open (name)\n",
    "\n",
    "counts = dict ()\n",
    "for line in handle:\n",
    "    words = line.split()\n",
    "    for word in words:\n",
    "        counts[word]=counts.get(word,0)+1\n",
    "\n",
    "bigcount = None\n",
    "bigword = None\n",
    "for word,count in counts.items():\n",
    "    if bigcount is None or count > bigcount:\n",
    "        bigword = word\n",
    "        bigcount = count \n",
    "\n",
    "print(bigword,bigcount)\n",
    "        "
   ]
  },
  {
   "cell_type": "code",
   "execution_count": null,
   "id": "26725f97",
   "metadata": {},
   "outputs": [],
   "source": []
  },
  {
   "cell_type": "code",
   "execution_count": null,
   "id": "1ce1ea79",
   "metadata": {},
   "outputs": [],
   "source": []
  }
 ],
 "metadata": {
  "kernelspec": {
   "display_name": "Python 3 (ipykernel)",
   "language": "python",
   "name": "python3"
  },
  "language_info": {
   "codemirror_mode": {
    "name": "ipython",
    "version": 3
   },
   "file_extension": ".py",
   "mimetype": "text/x-python",
   "name": "python",
   "nbconvert_exporter": "python",
   "pygments_lexer": "ipython3",
   "version": "3.7.4"
  }
 },
 "nbformat": 4,
 "nbformat_minor": 5
}
